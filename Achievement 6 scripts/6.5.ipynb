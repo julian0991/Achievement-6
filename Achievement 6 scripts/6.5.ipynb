{
 "cells": [
  {
   "cell_type": "code",
   "execution_count": 275,
   "id": "35d1c313",
   "metadata": {},
   "outputs": [],
   "source": [
    "import pandas as pd\n",
    "import numpy as np\n",
    "import seaborn as sns\n",
    "import matplotlib\n",
    "import matplotlib.pyplot as plt\n",
    "import os\n",
    "import sklearn\n",
    "from sklearn.cluster import KMeans # Here is where you import the k-means algorithm from scikit-learn.\n",
    "import pylab as pl # PyLab is a convenience module that bulk imports matplotlib."
   ]
  },
  {
   "cell_type": "code",
   "execution_count": null,
   "id": "1ef564e4",
   "metadata": {},
   "outputs": [],
   "source": []
  },
  {
   "cell_type": "code",
   "execution_count": 276,
   "id": "2311bf93",
   "metadata": {},
   "outputs": [],
   "source": [
    "df = pd.read_excel(r'/Users/julianwere/Documents/Arrests Data/arrests-data.xlsx', index_col = False)"
   ]
  },
  {
   "cell_type": "code",
   "execution_count": 277,
   "id": "185d55bd",
   "metadata": {},
   "outputs": [],
   "source": [
    "path = r'/Users/julianwere/Documents/Arrests Data'"
   ]
  },
  {
   "cell_type": "code",
   "execution_count": 278,
   "id": "b1bf9220",
   "metadata": {},
   "outputs": [
    {
     "data": {
      "text/html": [
       "<div>\n",
       "<style scoped>\n",
       "    .dataframe tbody tr th:only-of-type {\n",
       "        vertical-align: middle;\n",
       "    }\n",
       "\n",
       "    .dataframe tbody tr th {\n",
       "        vertical-align: top;\n",
       "    }\n",
       "\n",
       "    .dataframe thead th {\n",
       "        text-align: right;\n",
       "    }\n",
       "</style>\n",
       "<table border=\"1\" class=\"dataframe\">\n",
       "  <thead>\n",
       "    <tr style=\"text-align: right;\">\n",
       "      <th></th>\n",
       "      <th>Measure</th>\n",
       "      <th>Year</th>\n",
       "      <th>Ethnicity</th>\n",
       "      <th>Gender</th>\n",
       "      <th>Age_Group</th>\n",
       "      <th>Geography</th>\n",
       "      <th>Geography_type</th>\n",
       "      <th>Number of arrests</th>\n",
       "      <th>Population by ethnicity, gender, and PFA (based on 2011 Census)</th>\n",
       "      <th>Rate per 1,000 population by ethnicity, gender, and PFA</th>\n",
       "      <th>Proportion of arrests of this ethnicity, in this year, of this gender and in this police force area (excludes unreported)</th>\n",
       "    </tr>\n",
       "  </thead>\n",
       "  <tbody>\n",
       "    <tr>\n",
       "      <th>0</th>\n",
       "      <td>Number of arrests</td>\n",
       "      <td>2018/19</td>\n",
       "      <td>All</td>\n",
       "      <td>Female</td>\n",
       "      <td>All</td>\n",
       "      <td>All</td>\n",
       "      <td>Police Force Area</td>\n",
       "      <td>97117.0</td>\n",
       "      <td>27760111</td>\n",
       "      <td>3.50</td>\n",
       "      <td>1.000</td>\n",
       "    </tr>\n",
       "    <tr>\n",
       "      <th>1</th>\n",
       "      <td>Number of arrests</td>\n",
       "      <td>2018/19</td>\n",
       "      <td>All</td>\n",
       "      <td>Male</td>\n",
       "      <td>All</td>\n",
       "      <td>All</td>\n",
       "      <td>Police Force Area</td>\n",
       "      <td>574009.0</td>\n",
       "      <td>26854908</td>\n",
       "      <td>21.37</td>\n",
       "      <td>1.000</td>\n",
       "    </tr>\n",
       "    <tr>\n",
       "      <th>2</th>\n",
       "      <td>Number of arrests</td>\n",
       "      <td>2018/19</td>\n",
       "      <td>All</td>\n",
       "      <td>All</td>\n",
       "      <td>All</td>\n",
       "      <td>All</td>\n",
       "      <td>Police Force Area</td>\n",
       "      <td>671126.0</td>\n",
       "      <td>54615019</td>\n",
       "      <td>12.29</td>\n",
       "      <td>1.000</td>\n",
       "    </tr>\n",
       "    <tr>\n",
       "      <th>3</th>\n",
       "      <td>Number of arrests</td>\n",
       "      <td>2018/19</td>\n",
       "      <td>Any other asian</td>\n",
       "      <td>Female</td>\n",
       "      <td>All</td>\n",
       "      <td>All</td>\n",
       "      <td>Police Force Area</td>\n",
       "      <td>966.0</td>\n",
       "      <td>424764</td>\n",
       "      <td>2.27</td>\n",
       "      <td>0.011</td>\n",
       "    </tr>\n",
       "    <tr>\n",
       "      <th>4</th>\n",
       "      <td>Number of arrests</td>\n",
       "      <td>2018/19</td>\n",
       "      <td>Any other asian</td>\n",
       "      <td>Male</td>\n",
       "      <td>All</td>\n",
       "      <td>All</td>\n",
       "      <td>Police Force Area</td>\n",
       "      <td>11721.0</td>\n",
       "      <td>403496</td>\n",
       "      <td>29.05</td>\n",
       "      <td>0.023</td>\n",
       "    </tr>\n",
       "  </tbody>\n",
       "</table>\n",
       "</div>"
      ],
      "text/plain": [
       "             Measure     Year        Ethnicity  Gender Age_Group Geography  \\\n",
       "0  Number of arrests  2018/19              All  Female       All       All   \n",
       "1  Number of arrests  2018/19              All    Male       All       All   \n",
       "2  Number of arrests  2018/19              All     All       All       All   \n",
       "3  Number of arrests  2018/19  Any other asian  Female       All       All   \n",
       "4  Number of arrests  2018/19  Any other asian    Male       All       All   \n",
       "\n",
       "      Geography_type  Number of arrests  \\\n",
       "0  Police Force Area            97117.0   \n",
       "1  Police Force Area           574009.0   \n",
       "2  Police Force Area           671126.0   \n",
       "3  Police Force Area              966.0   \n",
       "4  Police Force Area            11721.0   \n",
       "\n",
       "   Population by ethnicity, gender, and PFA (based on 2011 Census)  \\\n",
       "0                                           27760111                 \n",
       "1                                           26854908                 \n",
       "2                                           54615019                 \n",
       "3                                             424764                 \n",
       "4                                             403496                 \n",
       "\n",
       "   Rate per 1,000 population by ethnicity, gender, and PFA  \\\n",
       "0                                               3.50         \n",
       "1                                              21.37         \n",
       "2                                              12.29         \n",
       "3                                               2.27         \n",
       "4                                              29.05         \n",
       "\n",
       "   Proportion of arrests of this ethnicity, in this year, of this gender and in this police force area (excludes unreported)  \n",
       "0                                              1.000                                                                          \n",
       "1                                              1.000                                                                          \n",
       "2                                              1.000                                                                          \n",
       "3                                              0.011                                                                          \n",
       "4                                              0.023                                                                          "
      ]
     },
     "execution_count": 278,
     "metadata": {},
     "output_type": "execute_result"
    }
   ],
   "source": [
    "df.head()"
   ]
  },
  {
   "cell_type": "code",
   "execution_count": 279,
   "id": "3309178e",
   "metadata": {},
   "outputs": [
    {
     "data": {
      "text/plain": [
       "(17052, 11)"
      ]
     },
     "execution_count": 279,
     "metadata": {},
     "output_type": "execute_result"
    }
   ],
   "source": [
    "df.shape"
   ]
  },
  {
   "cell_type": "code",
   "execution_count": null,
   "id": "85c98ddd",
   "metadata": {},
   "outputs": [],
   "source": []
  },
  {
   "cell_type": "code",
   "execution_count": 131,
   "id": "cae12ca7",
   "metadata": {},
   "outputs": [],
   "source": [
    "# create df with only number columns for nsupervised Machine learning"
   ]
  },
  {
   "cell_type": "code",
   "execution_count": 280,
   "id": "cd653b22",
   "metadata": {},
   "outputs": [],
   "source": [
    "df1 = df[['Number of arrests','Population by ethnicity, gender, and PFA (based on 2011 Census)','Rate per 1,000 population by ethnicity, gender, and PFA','Proportion of arrests of this ethnicity, in this year, of this gender and in this police force area (excludes unreported)']]"
   ]
  },
  {
   "cell_type": "code",
   "execution_count": 281,
   "id": "4db438a0",
   "metadata": {},
   "outputs": [
    {
     "data": {
      "text/html": [
       "<div>\n",
       "<style scoped>\n",
       "    .dataframe tbody tr th:only-of-type {\n",
       "        vertical-align: middle;\n",
       "    }\n",
       "\n",
       "    .dataframe tbody tr th {\n",
       "        vertical-align: top;\n",
       "    }\n",
       "\n",
       "    .dataframe thead th {\n",
       "        text-align: right;\n",
       "    }\n",
       "</style>\n",
       "<table border=\"1\" class=\"dataframe\">\n",
       "  <thead>\n",
       "    <tr style=\"text-align: right;\">\n",
       "      <th></th>\n",
       "      <th>Number of arrests</th>\n",
       "      <th>Population by ethnicity, gender, and PFA (based on 2011 Census)</th>\n",
       "      <th>Rate per 1,000 population by ethnicity, gender, and PFA</th>\n",
       "      <th>Proportion of arrests of this ethnicity, in this year, of this gender and in this police force area (excludes unreported)</th>\n",
       "    </tr>\n",
       "  </thead>\n",
       "  <tbody>\n",
       "    <tr>\n",
       "      <th>0</th>\n",
       "      <td>97117.0</td>\n",
       "      <td>27760111</td>\n",
       "      <td>3.50</td>\n",
       "      <td>1.000</td>\n",
       "    </tr>\n",
       "    <tr>\n",
       "      <th>1</th>\n",
       "      <td>574009.0</td>\n",
       "      <td>26854908</td>\n",
       "      <td>21.37</td>\n",
       "      <td>1.000</td>\n",
       "    </tr>\n",
       "    <tr>\n",
       "      <th>2</th>\n",
       "      <td>671126.0</td>\n",
       "      <td>54615019</td>\n",
       "      <td>12.29</td>\n",
       "      <td>1.000</td>\n",
       "    </tr>\n",
       "    <tr>\n",
       "      <th>3</th>\n",
       "      <td>966.0</td>\n",
       "      <td>424764</td>\n",
       "      <td>2.27</td>\n",
       "      <td>0.011</td>\n",
       "    </tr>\n",
       "    <tr>\n",
       "      <th>4</th>\n",
       "      <td>11721.0</td>\n",
       "      <td>403496</td>\n",
       "      <td>29.05</td>\n",
       "      <td>0.023</td>\n",
       "    </tr>\n",
       "  </tbody>\n",
       "</table>\n",
       "</div>"
      ],
      "text/plain": [
       "   Number of arrests  \\\n",
       "0            97117.0   \n",
       "1           574009.0   \n",
       "2           671126.0   \n",
       "3              966.0   \n",
       "4            11721.0   \n",
       "\n",
       "   Population by ethnicity, gender, and PFA (based on 2011 Census)  \\\n",
       "0                                           27760111                 \n",
       "1                                           26854908                 \n",
       "2                                           54615019                 \n",
       "3                                             424764                 \n",
       "4                                             403496                 \n",
       "\n",
       "   Rate per 1,000 population by ethnicity, gender, and PFA  \\\n",
       "0                                               3.50         \n",
       "1                                              21.37         \n",
       "2                                              12.29         \n",
       "3                                               2.27         \n",
       "4                                              29.05         \n",
       "\n",
       "   Proportion of arrests of this ethnicity, in this year, of this gender and in this police force area (excludes unreported)  \n",
       "0                                              1.000                                                                          \n",
       "1                                              1.000                                                                          \n",
       "2                                              1.000                                                                          \n",
       "3                                              0.011                                                                          \n",
       "4                                              0.023                                                                          "
      ]
     },
     "execution_count": 281,
     "metadata": {},
     "output_type": "execute_result"
    }
   ],
   "source": [
    "df1.head()"
   ]
  },
  {
   "cell_type": "code",
   "execution_count": 134,
   "id": "b98c3396",
   "metadata": {},
   "outputs": [],
   "source": [
    "#rename of columns"
   ]
  },
  {
   "cell_type": "code",
   "execution_count": 282,
   "id": "2b06b40c",
   "metadata": {},
   "outputs": [],
   "source": [
    "df.rename(columns = {'Population by ethnicity, gender, and PFA (based on 2011 Census)': 'Pop, by ethnicity and gender', 'Rate per 1,000 population by ethnicity, gender, and PFA':'Rate per 1,000 of pop' ,'Proportion of arrests of this ethnicity, in this year, of this gender and in this police force area (excludes unreported)':'Proportion of arrests of this ethnicity'}, inplace = True)"
   ]
  },
  {
   "cell_type": "code",
   "execution_count": 283,
   "id": "263df8f9",
   "metadata": {},
   "outputs": [
    {
     "data": {
      "text/html": [
       "<div>\n",
       "<style scoped>\n",
       "    .dataframe tbody tr th:only-of-type {\n",
       "        vertical-align: middle;\n",
       "    }\n",
       "\n",
       "    .dataframe tbody tr th {\n",
       "        vertical-align: top;\n",
       "    }\n",
       "\n",
       "    .dataframe thead th {\n",
       "        text-align: right;\n",
       "    }\n",
       "</style>\n",
       "<table border=\"1\" class=\"dataframe\">\n",
       "  <thead>\n",
       "    <tr style=\"text-align: right;\">\n",
       "      <th></th>\n",
       "      <th>Measure</th>\n",
       "      <th>Year</th>\n",
       "      <th>Ethnicity</th>\n",
       "      <th>Gender</th>\n",
       "      <th>Age_Group</th>\n",
       "      <th>Geography</th>\n",
       "      <th>Geography_type</th>\n",
       "      <th>Number of arrests</th>\n",
       "      <th>Pop, by ethnicity and gender</th>\n",
       "      <th>Rate per 1,000 of pop</th>\n",
       "      <th>Proportion of arrests of this ethnicity</th>\n",
       "    </tr>\n",
       "  </thead>\n",
       "  <tbody>\n",
       "    <tr>\n",
       "      <th>0</th>\n",
       "      <td>Number of arrests</td>\n",
       "      <td>2018/19</td>\n",
       "      <td>All</td>\n",
       "      <td>Female</td>\n",
       "      <td>All</td>\n",
       "      <td>All</td>\n",
       "      <td>Police Force Area</td>\n",
       "      <td>97117.0</td>\n",
       "      <td>27760111</td>\n",
       "      <td>3.50</td>\n",
       "      <td>1.000</td>\n",
       "    </tr>\n",
       "    <tr>\n",
       "      <th>1</th>\n",
       "      <td>Number of arrests</td>\n",
       "      <td>2018/19</td>\n",
       "      <td>All</td>\n",
       "      <td>Male</td>\n",
       "      <td>All</td>\n",
       "      <td>All</td>\n",
       "      <td>Police Force Area</td>\n",
       "      <td>574009.0</td>\n",
       "      <td>26854908</td>\n",
       "      <td>21.37</td>\n",
       "      <td>1.000</td>\n",
       "    </tr>\n",
       "    <tr>\n",
       "      <th>2</th>\n",
       "      <td>Number of arrests</td>\n",
       "      <td>2018/19</td>\n",
       "      <td>All</td>\n",
       "      <td>All</td>\n",
       "      <td>All</td>\n",
       "      <td>All</td>\n",
       "      <td>Police Force Area</td>\n",
       "      <td>671126.0</td>\n",
       "      <td>54615019</td>\n",
       "      <td>12.29</td>\n",
       "      <td>1.000</td>\n",
       "    </tr>\n",
       "    <tr>\n",
       "      <th>3</th>\n",
       "      <td>Number of arrests</td>\n",
       "      <td>2018/19</td>\n",
       "      <td>Any other asian</td>\n",
       "      <td>Female</td>\n",
       "      <td>All</td>\n",
       "      <td>All</td>\n",
       "      <td>Police Force Area</td>\n",
       "      <td>966.0</td>\n",
       "      <td>424764</td>\n",
       "      <td>2.27</td>\n",
       "      <td>0.011</td>\n",
       "    </tr>\n",
       "    <tr>\n",
       "      <th>4</th>\n",
       "      <td>Number of arrests</td>\n",
       "      <td>2018/19</td>\n",
       "      <td>Any other asian</td>\n",
       "      <td>Male</td>\n",
       "      <td>All</td>\n",
       "      <td>All</td>\n",
       "      <td>Police Force Area</td>\n",
       "      <td>11721.0</td>\n",
       "      <td>403496</td>\n",
       "      <td>29.05</td>\n",
       "      <td>0.023</td>\n",
       "    </tr>\n",
       "  </tbody>\n",
       "</table>\n",
       "</div>"
      ],
      "text/plain": [
       "             Measure     Year        Ethnicity  Gender Age_Group Geography  \\\n",
       "0  Number of arrests  2018/19              All  Female       All       All   \n",
       "1  Number of arrests  2018/19              All    Male       All       All   \n",
       "2  Number of arrests  2018/19              All     All       All       All   \n",
       "3  Number of arrests  2018/19  Any other asian  Female       All       All   \n",
       "4  Number of arrests  2018/19  Any other asian    Male       All       All   \n",
       "\n",
       "      Geography_type  Number of arrests  Pop, by ethnicity and gender  \\\n",
       "0  Police Force Area            97117.0                      27760111   \n",
       "1  Police Force Area           574009.0                      26854908   \n",
       "2  Police Force Area           671126.0                      54615019   \n",
       "3  Police Force Area              966.0                        424764   \n",
       "4  Police Force Area            11721.0                        403496   \n",
       "\n",
       "   Rate per 1,000 of pop  Proportion of arrests of this ethnicity  \n",
       "0                   3.50                                    1.000  \n",
       "1                  21.37                                    1.000  \n",
       "2                  12.29                                    1.000  \n",
       "3                   2.27                                    0.011  \n",
       "4                  29.05                                    0.023  "
      ]
     },
     "execution_count": 283,
     "metadata": {},
     "output_type": "execute_result"
    }
   ],
   "source": [
    "df.head()"
   ]
  },
  {
   "cell_type": "code",
   "execution_count": null,
   "id": "157441da",
   "metadata": {},
   "outputs": [],
   "source": []
  },
  {
   "cell_type": "markdown",
   "id": "8ddbb681",
   "metadata": {},
   "source": [
    "# data consitency checks"
   ]
  },
  {
   "cell_type": "code",
   "execution_count": 256,
   "id": "7db1f9e9",
   "metadata": {},
   "outputs": [],
   "source": [
    "#missing values"
   ]
  },
  {
   "cell_type": "code",
   "execution_count": 257,
   "id": "4e777eaf",
   "metadata": {
    "scrolled": true
   },
   "outputs": [
    {
     "data": {
      "text/plain": [
       "Number of arrests               0\n",
       "Pop, by ethnicity and gender    0\n",
       "Rate per 1,000 of pop           0\n",
       "Proportion of arrests           0\n",
       "clusters                        0\n",
       "cluster                         0\n",
       "dtype: int64"
      ]
     },
     "execution_count": 257,
     "metadata": {},
     "output_type": "execute_result"
    }
   ],
   "source": [
    "df1.isnull().sum()"
   ]
  },
  {
   "cell_type": "code",
   "execution_count": 258,
   "id": "b970b42e",
   "metadata": {},
   "outputs": [
    {
     "name": "stderr",
     "output_type": "stream",
     "text": [
      "/Users/julianwere/opt/anaconda3/lib/python3.9/site-packages/pandas/util/_decorators.py:311: SettingWithCopyWarning: \n",
      "A value is trying to be set on a copy of a slice from a DataFrame\n",
      "\n",
      "See the caveats in the documentation: https://pandas.pydata.org/pandas-docs/stable/user_guide/indexing.html#returning-a-view-versus-a-copy\n",
      "  return func(*args, **kwargs)\n"
     ]
    }
   ],
   "source": [
    "df1.dropna(inplace = True)"
   ]
  },
  {
   "cell_type": "code",
   "execution_count": null,
   "id": "a8730bc6",
   "metadata": {},
   "outputs": [],
   "source": []
  },
  {
   "cell_type": "code",
   "execution_count": 259,
   "id": "f5fd4713",
   "metadata": {},
   "outputs": [
    {
     "data": {
      "text/plain": [
       "Number of arrests               0\n",
       "Pop, by ethnicity and gender    0\n",
       "Rate per 1,000 of pop           0\n",
       "Proportion of arrests           0\n",
       "clusters                        0\n",
       "cluster                         0\n",
       "dtype: int64"
      ]
     },
     "execution_count": 259,
     "metadata": {},
     "output_type": "execute_result"
    }
   ],
   "source": [
    "df1.isnull().sum()"
   ]
  },
  {
   "cell_type": "code",
   "execution_count": null,
   "id": "76ffacec",
   "metadata": {},
   "outputs": [],
   "source": []
  },
  {
   "cell_type": "code",
   "execution_count": 260,
   "id": "76f060fa",
   "metadata": {},
   "outputs": [],
   "source": [
    "#duplicates check"
   ]
  },
  {
   "cell_type": "code",
   "execution_count": 261,
   "id": "88b74edd",
   "metadata": {},
   "outputs": [],
   "source": [
    "dups = df.duplicated()"
   ]
  },
  {
   "cell_type": "code",
   "execution_count": 262,
   "id": "4476b231",
   "metadata": {},
   "outputs": [
    {
     "data": {
      "text/plain": [
       "(17052,)"
      ]
     },
     "execution_count": 262,
     "metadata": {},
     "output_type": "execute_result"
    }
   ],
   "source": [
    "dups.shape "
   ]
  },
  {
   "cell_type": "code",
   "execution_count": 263,
   "id": "a31dccce",
   "metadata": {},
   "outputs": [],
   "source": [
    "#no dups"
   ]
  },
  {
   "cell_type": "code",
   "execution_count": null,
   "id": "0d40b6f1",
   "metadata": {},
   "outputs": [],
   "source": []
  },
  {
   "cell_type": "code",
   "execution_count": null,
   "id": "08032c27",
   "metadata": {},
   "outputs": [],
   "source": []
  },
  {
   "cell_type": "markdown",
   "id": "bb030a66",
   "metadata": {},
   "source": [
    "# Q3. The Elbow Technique"
   ]
  },
  {
   "cell_type": "code",
   "execution_count": null,
   "id": "95f61dab",
   "metadata": {},
   "outputs": [],
   "source": []
  },
  {
   "cell_type": "code",
   "execution_count": 253,
   "id": "4ce8436f",
   "metadata": {},
   "outputs": [],
   "source": [
    "num_cl = range(1, 10) # Defines the range of potential clusters in the data.\n",
    "kmeans = [KMeans(n_clusters=i) for i in num_cl] # Defines k-means clusters in the range assigned above."
   ]
  },
  {
   "cell_type": "code",
   "execution_count": null,
   "id": "02280d95",
   "metadata": {},
   "outputs": [],
   "source": []
  },
  {
   "cell_type": "code",
   "execution_count": 172,
   "id": "c4614c9e",
   "metadata": {},
   "outputs": [
    {
     "data": {
      "text/plain": [
       "[-6.823777196940618e+16,\n",
       " -1.0439467899501428e+16,\n",
       " -3130348254688960.0,\n",
       " -1623450273064814.0,\n",
       " -1127137873089521.0,\n",
       " -773786834582859.2,\n",
       " -506278001074780.0,\n",
       " -331284361689462.9,\n",
       " -248511751525908.53]"
      ]
     },
     "execution_count": 172,
     "metadata": {},
     "output_type": "execute_result"
    }
   ],
   "source": [
    "score = [kmeans[i].fit(df1).score(df1) for i in range(len(kmeans))] # Creates a score that represents \n",
    "# a rate of variation for the given cluster option.\n",
    "\n",
    "score"
   ]
  },
  {
   "cell_type": "code",
   "execution_count": null,
   "id": "8ff6d514",
   "metadata": {},
   "outputs": [],
   "source": [
    "#elbow curve"
   ]
  },
  {
   "cell_type": "code",
   "execution_count": 173,
   "id": "0e4bb3c9",
   "metadata": {
    "scrolled": true
   },
   "outputs": [
    {
     "data": {
      "image/png": "[encoded data removed]",
      "text/plain": [
       "<Figure size 432x288 with 1 Axes>"
      ]
     },
     "metadata": {
      "needs_background": "light"
     },
     "output_type": "display_data"
    }
   ],
   "source": [
    "pl.plot(num_cl,score)\n",
    "pl.xlabel('Number of Clusters')\n",
    "pl.ylabel('Score')\n",
    "pl.title('Elbow Curve')\n",
    "pl.show()"
   ]
  },
  {
   "cell_type": "markdown",
   "id": "74d2dd69",
   "metadata": {},
   "source": [
    "# Q4 - I'll be exploring 'number of arrests' against 'population and gender' based on the relationship from previous tasks. I' also explore 'number of arrests against a specific prop or arrests of a specific ethnicity'. "
   ]
  },
  {
   "cell_type": "code",
   "execution_count": null,
   "id": "998aa11a",
   "metadata": {},
   "outputs": [],
   "source": []
  },
  {
   "cell_type": "markdown",
   "id": "ddec1529",
   "metadata": {},
   "source": [
    "# Q5. K-Means Clustering "
   ]
  },
  {
   "cell_type": "code",
   "execution_count": 174,
   "id": "91167011",
   "metadata": {},
   "outputs": [],
   "source": [
    "kmeans = KMeans(n_clusters = 3, n_jobs = -1) "
   ]
  },
  {
   "cell_type": "code",
   "execution_count": 148,
   "id": "f7809f28",
   "metadata": {},
   "outputs": [
    {
     "name": "stderr",
     "output_type": "stream",
     "text": [
      "/Users/julianwere/opt/anaconda3/lib/python3.9/site-packages/sklearn/cluster/_kmeans.py:792: FutureWarning: 'n_jobs' was deprecated in version 0.23 and will be removed in 1.0 (renaming of 0.25).\n",
      "  warnings.warn(\"'n_jobs' was deprecated in version 0.23 and will be\"\n"
     ]
    },
    {
     "data": {
      "text/plain": [
       "KMeans(n_clusters=3, n_jobs=-1)"
      ]
     },
     "execution_count": 148,
     "metadata": {},
     "output_type": "execute_result"
    }
   ],
   "source": [
    "kmeans.fit(df1)"
   ]
  },
  {
   "cell_type": "code",
   "execution_count": 247,
   "id": "3f24b42c",
   "metadata": {},
   "outputs": [
    {
     "name": "stderr",
     "output_type": "stream",
     "text": [
      "/Users/julianwere/opt/anaconda3/lib/python3.9/site-packages/sklearn/cluster/_kmeans.py:792: FutureWarning: 'n_jobs' was deprecated in version 0.23 and will be removed in 1.0 (renaming of 0.25).\n",
      "  warnings.warn(\"'n_jobs' was deprecated in version 0.23 and will be\"\n",
      "/var/folders/31/7d4dby496tv4kmld3fn_5cm40000gn/T/ipykernel_53039/865444660.py:1: SettingWithCopyWarning: \n",
      "A value is trying to be set on a copy of a slice from a DataFrame.\n",
      "Try using .loc[row_indexer,col_indexer] = value instead\n",
      "\n",
      "See the caveats in the documentation: https://pandas.pydata.org/pandas-docs/stable/user_guide/indexing.html#returning-a-view-versus-a-copy\n",
      "  df1['clusters'] = kmeans.fit_predict(df1)\n"
     ]
    }
   ],
   "source": [
    "df1['clusters'] = kmeans.fit_predict(df1)"
   ]
  },
  {
   "cell_type": "code",
   "execution_count": 248,
   "id": "5e31d6bb",
   "metadata": {},
   "outputs": [
    {
     "data": {
      "text/html": [
       "<div>\n",
       "<style scoped>\n",
       "    .dataframe tbody tr th:only-of-type {\n",
       "        vertical-align: middle;\n",
       "    }\n",
       "\n",
       "    .dataframe tbody tr th {\n",
       "        vertical-align: top;\n",
       "    }\n",
       "\n",
       "    .dataframe thead th {\n",
       "        text-align: right;\n",
       "    }\n",
       "</style>\n",
       "<table border=\"1\" class=\"dataframe\">\n",
       "  <thead>\n",
       "    <tr style=\"text-align: right;\">\n",
       "      <th></th>\n",
       "      <th>Number of arrests</th>\n",
       "      <th>Pop, by ethnicity and gender</th>\n",
       "      <th>Rate per 1,000 of pop</th>\n",
       "      <th>Proportion of arrests</th>\n",
       "      <th>clusters</th>\n",
       "    </tr>\n",
       "  </thead>\n",
       "  <tbody>\n",
       "    <tr>\n",
       "      <th>0</th>\n",
       "      <td>97117.0</td>\n",
       "      <td>27760111</td>\n",
       "      <td>3.50</td>\n",
       "      <td>1.000</td>\n",
       "      <td>1</td>\n",
       "    </tr>\n",
       "    <tr>\n",
       "      <th>1</th>\n",
       "      <td>574009.0</td>\n",
       "      <td>26854908</td>\n",
       "      <td>21.37</td>\n",
       "      <td>1.000</td>\n",
       "      <td>1</td>\n",
       "    </tr>\n",
       "    <tr>\n",
       "      <th>2</th>\n",
       "      <td>671126.0</td>\n",
       "      <td>54615019</td>\n",
       "      <td>12.29</td>\n",
       "      <td>1.000</td>\n",
       "      <td>2</td>\n",
       "    </tr>\n",
       "    <tr>\n",
       "      <th>3</th>\n",
       "      <td>966.0</td>\n",
       "      <td>424764</td>\n",
       "      <td>2.27</td>\n",
       "      <td>0.011</td>\n",
       "      <td>0</td>\n",
       "    </tr>\n",
       "    <tr>\n",
       "      <th>4</th>\n",
       "      <td>11721.0</td>\n",
       "      <td>403496</td>\n",
       "      <td>29.05</td>\n",
       "      <td>0.023</td>\n",
       "      <td>0</td>\n",
       "    </tr>\n",
       "  </tbody>\n",
       "</table>\n",
       "</div>"
      ],
      "text/plain": [
       "   Number of arrests  Pop, by ethnicity and gender  Rate per 1,000 of pop  \\\n",
       "0            97117.0                      27760111                   3.50   \n",
       "1           574009.0                      26854908                  21.37   \n",
       "2           671126.0                      54615019                  12.29   \n",
       "3              966.0                        424764                   2.27   \n",
       "4            11721.0                        403496                  29.05   \n",
       "\n",
       "   Proportion of arrests  clusters  \n",
       "0                  1.000         1  \n",
       "1                  1.000         1  \n",
       "2                  1.000         2  \n",
       "3                  0.011         0  \n",
       "4                  0.023         0  "
      ]
     },
     "execution_count": 248,
     "metadata": {},
     "output_type": "execute_result"
    }
   ],
   "source": [
    "df1.head()"
   ]
  },
  {
   "cell_type": "code",
   "execution_count": 249,
   "id": "82a09ecd",
   "metadata": {},
   "outputs": [
    {
     "data": {
      "text/plain": [
       "0    16251\n",
       "1       36\n",
       "2       18\n",
       "Name: clusters, dtype: int64"
      ]
     },
     "execution_count": 249,
     "metadata": {},
     "output_type": "execute_result"
    }
   ],
   "source": [
    "df1['clusters'].value_counts()"
   ]
  },
  {
   "cell_type": "code",
   "execution_count": null,
   "id": "30cb6001",
   "metadata": {},
   "outputs": [],
   "source": []
  },
  {
   "cell_type": "code",
   "execution_count": 250,
   "id": "1bf2bbb0",
   "metadata": {},
   "outputs": [
    {
     "data": {
      "image/png": "[encoded data removed]",
      "text/plain": [
       "<Figure size 864x576 with 1 Axes>"
      ]
     },
     "metadata": {
      "needs_background": "light"
     },
     "output_type": "display_data"
    }
   ],
   "source": [
    "plt.figure(figsize=(12,8))\n",
    "ax = sns.scatterplot(x=df1['Number of arrests'], y=df1['Proportion of arrests'], hue=kmeans.labels_, s=100) \n",
    "# Here, you're subsetting `X` for the x and y arguments to avoid using their labels. \n",
    "# `hue` takes the value of the attribute `kmeans.labels_`, which is the result of running the k-means algorithm.\n",
    "# `s` represents the size of the points you want to see in the plot.\n",
    "\n",
    "ax.grid(False) # This removes the grid from the background.\n",
    "plt.xlabel('Number of arrests') # Label x-axis.\n",
    "plt.ylabel('Pop, by ethnicity and gender') # Label y-axis.\n",
    "plt.show()"
   ]
  },
  {
   "cell_type": "code",
   "execution_count": null,
   "id": "a8453af7",
   "metadata": {},
   "outputs": [],
   "source": []
  },
  {
   "cell_type": "code",
   "execution_count": 251,
   "id": "70893cfb",
   "metadata": {},
   "outputs": [
    {
     "name": "stderr",
     "output_type": "stream",
     "text": [
      "/Users/julianwere/opt/anaconda3/lib/python3.9/site-packages/pandas/core/indexing.py:1684: SettingWithCopyWarning: \n",
      "A value is trying to be set on a copy of a slice from a DataFrame.\n",
      "Try using .loc[row_indexer,col_indexer] = value instead\n",
      "\n",
      "See the caveats in the documentation: https://pandas.pydata.org/pandas-docs/stable/user_guide/indexing.html#returning-a-view-versus-a-copy\n",
      "  self.obj[key] = infer_fill_value(value)\n",
      "/Users/julianwere/opt/anaconda3/lib/python3.9/site-packages/pandas/core/indexing.py:1817: SettingWithCopyWarning: \n",
      "A value is trying to be set on a copy of a slice from a DataFrame.\n",
      "Try using .loc[row_indexer,col_indexer] = value instead\n",
      "\n",
      "See the caveats in the documentation: https://pandas.pydata.org/pandas-docs/stable/user_guide/indexing.html#returning-a-view-versus-a-copy\n",
      "  self._setitem_single_column(loc, value, pi)\n"
     ]
    }
   ],
   "source": [
    "df1.loc[df1['clusters'] == 2, 'cluster'] = 'dark purple'\n",
    "df1.loc[df1['clusters'] == 1, 'cluster'] = 'purple'\n",
    "df1.loc[df1['clusters'] == 0, 'cluster'] = 'pink'"
   ]
  },
  {
   "cell_type": "code",
   "execution_count": 252,
   "id": "5ab89f56",
   "metadata": {},
   "outputs": [
    {
     "data": {
      "text/html": [
       "<div>\n",
       "<style scoped>\n",
       "    .dataframe tbody tr th:only-of-type {\n",
       "        vertical-align: middle;\n",
       "    }\n",
       "\n",
       "    .dataframe tbody tr th {\n",
       "        vertical-align: top;\n",
       "    }\n",
       "\n",
       "    .dataframe thead tr th {\n",
       "        text-align: left;\n",
       "    }\n",
       "\n",
       "    .dataframe thead tr:last-of-type th {\n",
       "        text-align: right;\n",
       "    }\n",
       "</style>\n",
       "<table border=\"1\" class=\"dataframe\">\n",
       "  <thead>\n",
       "    <tr>\n",
       "      <th></th>\n",
       "      <th colspan=\"2\" halign=\"left\">Number of arrests</th>\n",
       "      <th colspan=\"2\" halign=\"left\">Pop, by ethnicity and gender</th>\n",
       "      <th colspan=\"2\" halign=\"left\">Rate per 1,000 of pop</th>\n",
       "      <th colspan=\"2\" halign=\"left\">Proportion of arrests</th>\n",
       "    </tr>\n",
       "    <tr>\n",
       "      <th></th>\n",
       "      <th>mean</th>\n",
       "      <th>median</th>\n",
       "      <th>mean</th>\n",
       "      <th>median</th>\n",
       "      <th>mean</th>\n",
       "      <th>median</th>\n",
       "      <th>mean</th>\n",
       "      <th>median</th>\n",
       "    </tr>\n",
       "    <tr>\n",
       "      <th>cluster</th>\n",
       "      <th></th>\n",
       "      <th></th>\n",
       "      <th></th>\n",
       "      <th></th>\n",
       "      <th></th>\n",
       "      <th></th>\n",
       "      <th></th>\n",
       "      <th></th>\n",
       "    </tr>\n",
       "  </thead>\n",
       "  <tbody>\n",
       "    <tr>\n",
       "      <th>dark purple</th>\n",
       "      <td>655359.611111</td>\n",
       "      <td>660052.5</td>\n",
       "      <td>4.935528e+07</td>\n",
       "      <td>48209395.0</td>\n",
       "      <td>13.138333</td>\n",
       "      <td>12.915</td>\n",
       "      <td>0.819889</td>\n",
       "      <td>0.7775</td>\n",
       "    </tr>\n",
       "    <tr>\n",
       "      <th>pink</th>\n",
       "      <td>2043.124608</td>\n",
       "      <td>86.0</td>\n",
       "      <td>1.360600e+05</td>\n",
       "      <td>5216.0</td>\n",
       "      <td>26.316514</td>\n",
       "      <td>14.550</td>\n",
       "      <td>0.137705</td>\n",
       "      <td>0.0110</td>\n",
       "    </tr>\n",
       "    <tr>\n",
       "      <th>purple</th>\n",
       "      <td>327679.805556</td>\n",
       "      <td>246579.0</td>\n",
       "      <td>2.467764e+07</td>\n",
       "      <td>23768108.5</td>\n",
       "      <td>13.303056</td>\n",
       "      <td>10.555</td>\n",
       "      <td>0.836222</td>\n",
       "      <td>0.8145</td>\n",
       "    </tr>\n",
       "  </tbody>\n",
       "</table>\n",
       "</div>"
      ],
      "text/plain": [
       "            Number of arrests           Pop, by ethnicity and gender  \\\n",
       "                         mean    median                         mean   \n",
       "cluster                                                                \n",
       "dark purple     655359.611111  660052.5                 4.935528e+07   \n",
       "pink              2043.124608      86.0                 1.360600e+05   \n",
       "purple          327679.805556  246579.0                 2.467764e+07   \n",
       "\n",
       "                        Rate per 1,000 of pop         Proportion of arrests  \\\n",
       "                 median                  mean  median                  mean   \n",
       "cluster                                                                       \n",
       "dark purple  48209395.0             13.138333  12.915              0.819889   \n",
       "pink             5216.0             26.316514  14.550              0.137705   \n",
       "purple       23768108.5             13.303056  10.555              0.836222   \n",
       "\n",
       "                     \n",
       "             median  \n",
       "cluster              \n",
       "dark purple  0.7775  \n",
       "pink         0.0110  \n",
       "purple       0.8145  "
      ]
     },
     "execution_count": 252,
     "metadata": {},
     "output_type": "execute_result"
    }
   ],
   "source": [
    "df1.groupby('cluster').agg({'Number of arrests':['mean', 'median'], \n",
    "                         'Pop, by ethnicity and gender':['mean', 'median'], \n",
    "                         'Rate per 1,000 of pop':['mean', 'median'],\n",
    "                          'Proportion of arrests':['mean', 'median']})"
   ]
  },
  {
   "cell_type": "code",
   "execution_count": null,
   "id": "ec0614d5",
   "metadata": {},
   "outputs": [],
   "source": []
  },
  {
   "cell_type": "code",
   "execution_count": null,
   "id": "73765364",
   "metadata": {},
   "outputs": [],
   "source": [
    "df.to_csv(os.path.join(path, 'arrests-data1.csv'))"
   ]
  }
 ],
 "metadata": {
  "kernelspec": {
   "display_name": "Python 3 (ipykernel)",
   "language": "python",
   "name": "python3"
  },
  "language_info": {
   "codemirror_mode": {
    "name": "ipython",
    "version": 3
   },
   "file_extension": ".py",
   "mimetype": "text/x-python",
   "name": "python",
   "nbconvert_exporter": "python",
   "pygments_lexer": "ipython3",
   "version": "3.9.7"
  }
 },
 "nbformat": 4,
 "nbformat_minor": 5
}
