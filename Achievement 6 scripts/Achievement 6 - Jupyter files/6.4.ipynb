{
 "cells": [
  {
   "cell_type": "code",
   "execution_count": 2,
   "id": "ab069196",
   "metadata": {},
   "outputs": [],
   "source": [
    "import pandas as pd\n",
    "import numpy as np\n",
    "import seaborn as sns\n",
    "import matplotlib\n",
    "import matplotlib.pyplot as plt\n",
    "import os\n",
    "import sklearn\n",
    "from sklearn.cluster import KMeans # Here is where you import the k-means algorithm from scikit-learn.\n",
    "import pylab as pl # PyLab is a convenience module that bulk imports matplotlib."
   ]
  },
  {
   "cell_type": "code",
   "execution_count": 3,
   "id": "db06a2d4",
   "metadata": {},
   "outputs": [],
   "source": [
    "df = pd.read_excel(r'/Users/julianwere/Documents/Arrests Data/arrests-data-num.xlsx', index_col = False)"
   ]
  },
  {
   "cell_type": "code",
   "execution_count": 4,
   "id": "7fb3a848",
   "metadata": {},
   "outputs": [],
   "source": [
    "path = r'/Users/julianwere/Documents/Arrests Data'"
   ]
  },
  {
   "cell_type": "code",
   "execution_count": 22,
   "id": "71fc5c43",
   "metadata": {
    "scrolled": true
   },
   "outputs": [
    {
     "data": {
      "text/html": [
       "<div>\n",
       "<style scoped>\n",
       "    .dataframe tbody tr th:only-of-type {\n",
       "        vertical-align: middle;\n",
       "    }\n",
       "\n",
       "    .dataframe tbody tr th {\n",
       "        vertical-align: top;\n",
       "    }\n",
       "\n",
       "    .dataframe thead th {\n",
       "        text-align: right;\n",
       "    }\n",
       "</style>\n",
       "<table border=\"1\" class=\"dataframe\">\n",
       "  <thead>\n",
       "    <tr style=\"text-align: right;\">\n",
       "      <th></th>\n",
       "      <th>Number of arrests</th>\n",
       "      <th>Population by ethnicity, gender, and PFA (based on 2011 Census)</th>\n",
       "      <th>Rate per 1,000 population by ethnicity, gender, and PFA</th>\n",
       "      <th>Proportion of arrests of this ethnicity, in this year, of this gender and in this police force area (excludes unreported)</th>\n",
       "    </tr>\n",
       "  </thead>\n",
       "  <tbody>\n",
       "    <tr>\n",
       "      <th>0</th>\n",
       "      <td>97117.0</td>\n",
       "      <td>27760111</td>\n",
       "      <td>3.50</td>\n",
       "      <td>1.000</td>\n",
       "    </tr>\n",
       "    <tr>\n",
       "      <th>1</th>\n",
       "      <td>574009.0</td>\n",
       "      <td>26854908</td>\n",
       "      <td>21.37</td>\n",
       "      <td>1.000</td>\n",
       "    </tr>\n",
       "    <tr>\n",
       "      <th>2</th>\n",
       "      <td>671126.0</td>\n",
       "      <td>54615019</td>\n",
       "      <td>12.29</td>\n",
       "      <td>1.000</td>\n",
       "    </tr>\n",
       "    <tr>\n",
       "      <th>3</th>\n",
       "      <td>966.0</td>\n",
       "      <td>424764</td>\n",
       "      <td>2.27</td>\n",
       "      <td>0.011</td>\n",
       "    </tr>\n",
       "    <tr>\n",
       "      <th>4</th>\n",
       "      <td>11721.0</td>\n",
       "      <td>403496</td>\n",
       "      <td>29.05</td>\n",
       "      <td>0.023</td>\n",
       "    </tr>\n",
       "  </tbody>\n",
       "</table>\n",
       "</div>"
      ],
      "text/plain": [
       "   Number of arrests  \\\n",
       "0            97117.0   \n",
       "1           574009.0   \n",
       "2           671126.0   \n",
       "3              966.0   \n",
       "4            11721.0   \n",
       "\n",
       "   Population by ethnicity, gender, and PFA (based on 2011 Census)  \\\n",
       "0                                           27760111                 \n",
       "1                                           26854908                 \n",
       "2                                           54615019                 \n",
       "3                                             424764                 \n",
       "4                                             403496                 \n",
       "\n",
       "   Rate per 1,000 population by ethnicity, gender, and PFA  \\\n",
       "0                                               3.50         \n",
       "1                                              21.37         \n",
       "2                                              12.29         \n",
       "3                                               2.27         \n",
       "4                                              29.05         \n",
       "\n",
       "   Proportion of arrests of this ethnicity, in this year, of this gender and in this police force area (excludes unreported)  \n",
       "0                                              1.000                                                                          \n",
       "1                                              1.000                                                                          \n",
       "2                                              1.000                                                                          \n",
       "3                                              0.011                                                                          \n",
       "4                                              0.023                                                                          "
      ]
     },
     "execution_count": 22,
     "metadata": {},
     "output_type": "execute_result"
    }
   ],
   "source": [
    "df.head()"
   ]
  },
  {
   "cell_type": "code",
   "execution_count": 23,
   "id": "a4495f1b",
   "metadata": {},
   "outputs": [
    {
     "data": {
      "text/plain": [
       "(17052, 4)"
      ]
     },
     "execution_count": 23,
     "metadata": {},
     "output_type": "execute_result"
    }
   ],
   "source": [
    "df.shape"
   ]
  },
  {
   "cell_type": "code",
   "execution_count": null,
   "id": "f014ee39",
   "metadata": {},
   "outputs": [],
   "source": []
  },
  {
   "cell_type": "code",
   "execution_count": 24,
   "id": "bbcb6bbb",
   "metadata": {},
   "outputs": [],
   "source": [
    "df.rename(columns = {'Number of arrests': 'No of arrests','Population by ethnicity, gender, and PFA (based on 2011 Census)': 'Pop by ethnicity and gender', 'Rate per 1,000 population by ethnicity, gender, and PFA':'Rate per 1,000 of pop by ethnicity' ,'Proportion of arrests of this ethnicity, in this year, of this gender and in this police force area (excludes unreported)':'Prop of arrests of this ethnicity'}, inplace = True)"
   ]
  },
  {
   "cell_type": "code",
   "execution_count": 25,
   "id": "62c5ce2c",
   "metadata": {},
   "outputs": [
    {
     "data": {
      "text/html": [
       "<div>\n",
       "<style scoped>\n",
       "    .dataframe tbody tr th:only-of-type {\n",
       "        vertical-align: middle;\n",
       "    }\n",
       "\n",
       "    .dataframe tbody tr th {\n",
       "        vertical-align: top;\n",
       "    }\n",
       "\n",
       "    .dataframe thead th {\n",
       "        text-align: right;\n",
       "    }\n",
       "</style>\n",
       "<table border=\"1\" class=\"dataframe\">\n",
       "  <thead>\n",
       "    <tr style=\"text-align: right;\">\n",
       "      <th></th>\n",
       "      <th>No of arrests</th>\n",
       "      <th>Pop by ethnicity and gender</th>\n",
       "      <th>Rate per 1,000 of pop by ethnicity</th>\n",
       "      <th>Prop of arrests of this ethnicity</th>\n",
       "    </tr>\n",
       "  </thead>\n",
       "  <tbody>\n",
       "    <tr>\n",
       "      <th>0</th>\n",
       "      <td>97117.0</td>\n",
       "      <td>27760111</td>\n",
       "      <td>3.50</td>\n",
       "      <td>1.000</td>\n",
       "    </tr>\n",
       "    <tr>\n",
       "      <th>1</th>\n",
       "      <td>574009.0</td>\n",
       "      <td>26854908</td>\n",
       "      <td>21.37</td>\n",
       "      <td>1.000</td>\n",
       "    </tr>\n",
       "    <tr>\n",
       "      <th>2</th>\n",
       "      <td>671126.0</td>\n",
       "      <td>54615019</td>\n",
       "      <td>12.29</td>\n",
       "      <td>1.000</td>\n",
       "    </tr>\n",
       "    <tr>\n",
       "      <th>3</th>\n",
       "      <td>966.0</td>\n",
       "      <td>424764</td>\n",
       "      <td>2.27</td>\n",
       "      <td>0.011</td>\n",
       "    </tr>\n",
       "    <tr>\n",
       "      <th>4</th>\n",
       "      <td>11721.0</td>\n",
       "      <td>403496</td>\n",
       "      <td>29.05</td>\n",
       "      <td>0.023</td>\n",
       "    </tr>\n",
       "  </tbody>\n",
       "</table>\n",
       "</div>"
      ],
      "text/plain": [
       "   No of arrests  Pop by ethnicity and gender  \\\n",
       "0        97117.0                     27760111   \n",
       "1       574009.0                     26854908   \n",
       "2       671126.0                     54615019   \n",
       "3          966.0                       424764   \n",
       "4        11721.0                       403496   \n",
       "\n",
       "   Rate per 1,000 of pop by ethnicity  Prop of arrests of this ethnicity  \n",
       "0                                3.50                              1.000  \n",
       "1                               21.37                              1.000  \n",
       "2                               12.29                              1.000  \n",
       "3                                2.27                              0.011  \n",
       "4                               29.05                              0.023  "
      ]
     },
     "execution_count": 25,
     "metadata": {},
     "output_type": "execute_result"
    }
   ],
   "source": [
    "df.head()"
   ]
  },
  {
   "cell_type": "code",
   "execution_count": 27,
   "id": "28a5d964",
   "metadata": {},
   "outputs": [
    {
     "data": {
      "text/html": [
       "<div>\n",
       "<style scoped>\n",
       "    .dataframe tbody tr th:only-of-type {\n",
       "        vertical-align: middle;\n",
       "    }\n",
       "\n",
       "    .dataframe tbody tr th {\n",
       "        vertical-align: top;\n",
       "    }\n",
       "\n",
       "    .dataframe thead th {\n",
       "        text-align: right;\n",
       "    }\n",
       "</style>\n",
       "<table border=\"1\" class=\"dataframe\">\n",
       "  <thead>\n",
       "    <tr style=\"text-align: right;\">\n",
       "      <th></th>\n",
       "      <th>No of arrests</th>\n",
       "      <th>Pop by ethnicity and gender</th>\n",
       "      <th>Rate per 1,000 of pop by ethnicity</th>\n",
       "      <th>Prop of arrests of this ethnicity</th>\n",
       "    </tr>\n",
       "  </thead>\n",
       "  <tbody>\n",
       "    <tr>\n",
       "      <th>count</th>\n",
       "      <td>1.632900e+04</td>\n",
       "      <td>1.705200e+04</td>\n",
       "      <td>16329.000000</td>\n",
       "      <td>16560.000000</td>\n",
       "    </tr>\n",
       "    <tr>\n",
       "      <th>mean</th>\n",
       "      <td>3.910804e+03</td>\n",
       "      <td>2.613529e+05</td>\n",
       "      <td>26.266065</td>\n",
       "      <td>0.137844</td>\n",
       "    </tr>\n",
       "    <tr>\n",
       "      <th>std</th>\n",
       "      <td>3.523994e+04</td>\n",
       "      <td>2.282885e+06</td>\n",
       "      <td>45.089141</td>\n",
       "      <td>0.306414</td>\n",
       "    </tr>\n",
       "    <tr>\n",
       "      <th>min</th>\n",
       "      <td>1.000000e+00</td>\n",
       "      <td>3.200000e+01</td>\n",
       "      <td>0.120000</td>\n",
       "      <td>0.000000</td>\n",
       "    </tr>\n",
       "    <tr>\n",
       "      <th>25%</th>\n",
       "      <td>2.000000e+01</td>\n",
       "      <td>1.797000e+03</td>\n",
       "      <td>5.620000</td>\n",
       "      <td>0.004000</td>\n",
       "    </tr>\n",
       "    <tr>\n",
       "      <th>50%</th>\n",
       "      <td>8.700000e+01</td>\n",
       "      <td>5.036000e+03</td>\n",
       "      <td>14.560000</td>\n",
       "      <td>0.011000</td>\n",
       "    </tr>\n",
       "    <tr>\n",
       "      <th>75%</th>\n",
       "      <td>5.190000e+02</td>\n",
       "      <td>2.368400e+04</td>\n",
       "      <td>29.800000</td>\n",
       "      <td>0.034000</td>\n",
       "    </tr>\n",
       "    <tr>\n",
       "      <th>max</th>\n",
       "      <td>1.021356e+06</td>\n",
       "      <td>5.607591e+07</td>\n",
       "      <td>1092.310000</td>\n",
       "      <td>1.000000</td>\n",
       "    </tr>\n",
       "  </tbody>\n",
       "</table>\n",
       "</div>"
      ],
      "text/plain": [
       "       No of arrests  Pop by ethnicity and gender  \\\n",
       "count   1.632900e+04                 1.705200e+04   \n",
       "mean    3.910804e+03                 2.613529e+05   \n",
       "std     3.523994e+04                 2.282885e+06   \n",
       "min     1.000000e+00                 3.200000e+01   \n",
       "25%     2.000000e+01                 1.797000e+03   \n",
       "50%     8.700000e+01                 5.036000e+03   \n",
       "75%     5.190000e+02                 2.368400e+04   \n",
       "max     1.021356e+06                 5.607591e+07   \n",
       "\n",
       "       Rate per 1,000 of pop by ethnicity  Prop of arrests of this ethnicity  \n",
       "count                        16329.000000                       16560.000000  \n",
       "mean                            26.266065                           0.137844  \n",
       "std                             45.089141                           0.306414  \n",
       "min                              0.120000                           0.000000  \n",
       "25%                              5.620000                           0.004000  \n",
       "50%                             14.560000                           0.011000  \n",
       "75%                             29.800000                           0.034000  \n",
       "max                           1092.310000                           1.000000  "
      ]
     },
     "execution_count": 27,
     "metadata": {},
     "output_type": "execute_result"
    }
   ],
   "source": [
    "df.describe()"
   ]
  },
  {
   "cell_type": "markdown",
   "id": "345f4ce1",
   "metadata": {},
   "source": [
    "# Data Consistency checks"
   ]
  },
  {
   "cell_type": "code",
   "execution_count": 6,
   "id": "c8fa1f8f",
   "metadata": {},
   "outputs": [],
   "source": [
    "# missing values check"
   ]
  },
  {
   "cell_type": "code",
   "execution_count": null,
   "id": "53e1024d",
   "metadata": {},
   "outputs": [],
   "source": [
    "df = df[df['Pop by ethnicity and gender'] <=] "
   ]
  },
  {
   "cell_type": "code",
   "execution_count": 26,
   "id": "909244f7",
   "metadata": {},
   "outputs": [
    {
     "data": {
      "text/plain": [
       "No of arrests                         723\n",
       "Pop by ethnicity and gender             0\n",
       "Rate per 1,000 of pop by ethnicity    723\n",
       "Prop of arrests of this ethnicity     492\n",
       "dtype: int64"
      ]
     },
     "execution_count": 26,
     "metadata": {},
     "output_type": "execute_result"
    }
   ],
   "source": [
    "df.isnull().sum()"
   ]
  },
  {
   "cell_type": "code",
   "execution_count": null,
   "id": "9d9801f4",
   "metadata": {},
   "outputs": [],
   "source": []
  },
  {
   "cell_type": "code",
   "execution_count": 42,
   "id": "fc9d507f",
   "metadata": {},
   "outputs": [
    {
     "data": {
      "text/plain": [
       "3910.7694698569085"
      ]
     },
     "execution_count": 42,
     "metadata": {},
     "output_type": "execute_result"
    }
   ],
   "source": [
    "df['No of arrests'].mean()"
   ]
  },
  {
   "cell_type": "code",
   "execution_count": 36,
   "id": "98591f1e",
   "metadata": {},
   "outputs": [
    {
     "data": {
      "text/plain": [
       "26.266065282626137"
      ]
     },
     "execution_count": 36,
     "metadata": {},
     "output_type": "execute_result"
    }
   ],
   "source": [
    "df['Rate per 1,000 of pop by ethnicity'].mean()"
   ]
  },
  {
   "cell_type": "code",
   "execution_count": 37,
   "id": "462f18f8",
   "metadata": {},
   "outputs": [
    {
     "data": {
      "text/plain": [
       "0.1378444444444422"
      ]
     },
     "execution_count": 37,
     "metadata": {},
     "output_type": "execute_result"
    }
   ],
   "source": [
    "df['Prop of arrests of this ethnicity'].mean()"
   ]
  },
  {
   "cell_type": "code",
   "execution_count": null,
   "id": "e7764094",
   "metadata": {},
   "outputs": [],
   "source": []
  },
  {
   "cell_type": "code",
   "execution_count": 38,
   "id": "be59d40f",
   "metadata": {},
   "outputs": [],
   "source": [
    "df['No of arrests'].fillna(3910, inplace=True)"
   ]
  },
  {
   "cell_type": "code",
   "execution_count": 40,
   "id": "83d92c16",
   "metadata": {},
   "outputs": [],
   "source": [
    "df['Rate per 1,000 of pop by ethnicity'].fillna(26, inplace=True)"
   ]
  },
  {
   "cell_type": "code",
   "execution_count": 41,
   "id": "a28d63ca",
   "metadata": {},
   "outputs": [],
   "source": [
    "df['Prop of arrests of this ethnicity'].fillna(0.14, inplace=True)"
   ]
  },
  {
   "cell_type": "code",
   "execution_count": null,
   "id": "a67dc6c1",
   "metadata": {},
   "outputs": [],
   "source": [
    "df['column with missings'].fillna(mean value, inplace=True)"
   ]
  },
  {
   "cell_type": "code",
   "execution_count": 43,
   "id": "2f3e60ff",
   "metadata": {},
   "outputs": [
    {
     "data": {
      "text/plain": [
       "No of arrests                         0\n",
       "Pop by ethnicity and gender           0\n",
       "Rate per 1,000 of pop by ethnicity    0\n",
       "Prop of arrests of this ethnicity     0\n",
       "dtype: int64"
      ]
     },
     "execution_count": 43,
     "metadata": {},
     "output_type": "execute_result"
    }
   ],
   "source": [
    "df.isnull().sum()"
   ]
  },
  {
   "cell_type": "code",
   "execution_count": null,
   "id": "1222d628",
   "metadata": {},
   "outputs": [],
   "source": []
  },
  {
   "cell_type": "code",
   "execution_count": null,
   "id": "fd6321db",
   "metadata": {},
   "outputs": [],
   "source": [
    "#Extreme Vales check"
   ]
  },
  {
   "cell_type": "code",
   "execution_count": null,
   "id": "e35df5b4",
   "metadata": {},
   "outputs": [],
   "source": [
    "#population has extreme values which would lead to bias, so an average has been take to bring this variable to scale.Extreme values check."
   ]
  },
  {
   "cell_type": "code",
   "execution_count": 45,
   "id": "41e21c47",
   "metadata": {},
   "outputs": [
    {
     "data": {
      "text/plain": [
       "261352.8970208773"
      ]
     },
     "execution_count": 45,
     "metadata": {},
     "output_type": "execute_result"
    }
   ],
   "source": [
    "df['Pop by ethnicity and gender'].mean()"
   ]
  },
  {
   "cell_type": "code",
   "execution_count": 46,
   "id": "9af92837",
   "metadata": {},
   "outputs": [],
   "source": [
    "df['Pop by ethnicity and gender'].fillna(261352, inplace=True)"
   ]
  },
  {
   "cell_type": "code",
   "execution_count": 47,
   "id": "7ff3f29f",
   "metadata": {},
   "outputs": [],
   "source": [
    "df = df[df['Pop by ethnicity and gender'] <=261352]"
   ]
  },
  {
   "cell_type": "code",
   "execution_count": 48,
   "id": "d651b8ef",
   "metadata": {},
   "outputs": [],
   "source": [
    "dups = df.duplicated()"
   ]
  },
  {
   "cell_type": "code",
   "execution_count": 49,
   "id": "496d8e2c",
   "metadata": {},
   "outputs": [
    {
     "data": {
      "text/plain": [
       "(14460,)"
      ]
     },
     "execution_count": 49,
     "metadata": {},
     "output_type": "execute_result"
    }
   ],
   "source": [
    "dups.shape "
   ]
  },
  {
   "cell_type": "code",
   "execution_count": null,
   "id": "deb83c94",
   "metadata": {},
   "outputs": [],
   "source": []
  },
  {
   "cell_type": "markdown",
   "id": "ddcfcc16",
   "metadata": {},
   "source": [
    "# Q3. The Elbow Technique"
   ]
  },
  {
   "cell_type": "code",
   "execution_count": 55,
   "id": "409bbafe",
   "metadata": {},
   "outputs": [],
   "source": [
    "num_cl = range(1, 10) \n",
    "kmeans = [KMeans(n_clusters=i) for i in num_cl]"
   ]
  },
  {
   "cell_type": "code",
   "execution_count": 59,
   "id": "a9524bc7",
   "metadata": {},
   "outputs": [
    {
     "data": {
      "text/plain": [
       "[-18283855629311.695,\n",
       " -3688832346540.843,\n",
       " -1643161758010.828,\n",
       " -940051569533.691,\n",
       " -578546013133.107,\n",
       " -429560641981.0213,\n",
       " -298767268230.0416,\n",
       " -220332830366.30447,\n",
       " -175776877402.76892]"
      ]
     },
     "execution_count": 59,
     "metadata": {},
     "output_type": "execute_result"
    }
   ],
   "source": [
    "score = [kmeans[i].fit(df).score(df) for i in range(len(kmeans))] \n",
    "\n",
    "score"
   ]
  },
  {
   "cell_type": "code",
   "execution_count": null,
   "id": "2d5e8423",
   "metadata": {},
   "outputs": [],
   "source": []
  },
  {
   "cell_type": "code",
   "execution_count": 60,
   "id": "7c26a8af",
   "metadata": {},
   "outputs": [
    {
     "data": {
      "image/png": "[encoded data removed]",
      "text/plain": [
       "<Figure size 432x288 with 1 Axes>"
      ]
     },
     "metadata": {
      "needs_background": "light"
     },
     "output_type": "display_data"
    }
   ],
   "source": [
    "pl.plot(num_cl,score)\n",
    "pl.xlabel('Number of Clusters')\n",
    "pl.ylabel('Score')\n",
    "pl.title('Elbow Curve')\n",
    "pl.show()"
   ]
  },
  {
   "cell_type": "code",
   "execution_count": 61,
   "id": "12dbb283",
   "metadata": {},
   "outputs": [],
   "source": [
    "# Optimal clusters based on the chart is 4 where the line evens out."
   ]
  },
  {
   "cell_type": "markdown",
   "id": "56a6824e",
   "metadata": {},
   "source": [
    "# Q5"
   ]
  },
  {
   "cell_type": "code",
   "execution_count": 62,
   "id": "da017d7d",
   "metadata": {},
   "outputs": [],
   "source": [
    "kmeans = KMeans(n_clusters = 4, n_jobs = -1) "
   ]
  },
  {
   "cell_type": "code",
   "execution_count": 63,
   "id": "a462fd91",
   "metadata": {},
   "outputs": [
    {
     "name": "stderr",
     "output_type": "stream",
     "text": [
      "/Users/julianwere/opt/anaconda3/lib/python3.9/site-packages/sklearn/cluster/_kmeans.py:792: FutureWarning: 'n_jobs' was deprecated in version 0.23 and will be removed in 1.0 (renaming of 0.25).\n",
      "  warnings.warn(\"'n_jobs' was deprecated in version 0.23 and will be\"\n"
     ]
    },
    {
     "data": {
      "text/plain": [
       "KMeans(n_clusters=4, n_jobs=-1)"
      ]
     },
     "execution_count": 63,
     "metadata": {},
     "output_type": "execute_result"
    }
   ],
   "source": [
    "kmeans.fit(df)"
   ]
  },
  {
   "cell_type": "code",
   "execution_count": 64,
   "id": "67463ad7",
   "metadata": {},
   "outputs": [
    {
     "name": "stderr",
     "output_type": "stream",
     "text": [
      "/Users/julianwere/opt/anaconda3/lib/python3.9/site-packages/sklearn/cluster/_kmeans.py:792: FutureWarning: 'n_jobs' was deprecated in version 0.23 and will be removed in 1.0 (renaming of 0.25).\n",
      "  warnings.warn(\"'n_jobs' was deprecated in version 0.23 and will be\"\n"
     ]
    }
   ],
   "source": [
    "df['clusters'] = kmeans.fit_predict(df)"
   ]
  },
  {
   "cell_type": "markdown",
   "id": "a383a02d",
   "metadata": {},
   "source": [
    "# Q6"
   ]
  },
  {
   "cell_type": "code",
   "execution_count": 67,
   "id": "da043631",
   "metadata": {},
   "outputs": [
    {
     "data": {
      "text/html": [
       "<div>\n",
       "<style scoped>\n",
       "    .dataframe tbody tr th:only-of-type {\n",
       "        vertical-align: middle;\n",
       "    }\n",
       "\n",
       "    .dataframe tbody tr th {\n",
       "        vertical-align: top;\n",
       "    }\n",
       "\n",
       "    .dataframe thead th {\n",
       "        text-align: right;\n",
       "    }\n",
       "</style>\n",
       "<table border=\"1\" class=\"dataframe\">\n",
       "  <thead>\n",
       "    <tr style=\"text-align: right;\">\n",
       "      <th></th>\n",
       "      <th>No of arrests</th>\n",
       "      <th>Pop by ethnicity and gender</th>\n",
       "      <th>Rate per 1,000 of pop by ethnicity</th>\n",
       "      <th>Prop of arrests of this ethnicity</th>\n",
       "      <th>clusters</th>\n",
       "    </tr>\n",
       "  </thead>\n",
       "  <tbody>\n",
       "    <tr>\n",
       "      <th>6</th>\n",
       "      <td>1880.0</td>\n",
       "      <td>138702</td>\n",
       "      <td>13.55</td>\n",
       "      <td>0.022</td>\n",
       "      <td>2</td>\n",
       "    </tr>\n",
       "    <tr>\n",
       "      <th>7</th>\n",
       "      <td>15928.0</td>\n",
       "      <td>141148</td>\n",
       "      <td>112.85</td>\n",
       "      <td>0.032</td>\n",
       "      <td>2</td>\n",
       "    </tr>\n",
       "    <tr>\n",
       "      <th>10</th>\n",
       "      <td>1200.0</td>\n",
       "      <td>249556</td>\n",
       "      <td>4.81</td>\n",
       "      <td>0.014</td>\n",
       "      <td>1</td>\n",
       "    </tr>\n",
       "    <tr>\n",
       "      <th>12</th>\n",
       "      <td>936.0</td>\n",
       "      <td>147258</td>\n",
       "      <td>6.36</td>\n",
       "      <td>0.011</td>\n",
       "      <td>2</td>\n",
       "    </tr>\n",
       "    <tr>\n",
       "      <th>13</th>\n",
       "      <td>5088.0</td>\n",
       "      <td>139717</td>\n",
       "      <td>36.42</td>\n",
       "      <td>0.010</td>\n",
       "      <td>2</td>\n",
       "    </tr>\n",
       "  </tbody>\n",
       "</table>\n",
       "</div>"
      ],
      "text/plain": [
       "    No of arrests  Pop by ethnicity and gender  \\\n",
       "6          1880.0                       138702   \n",
       "7         15928.0                       141148   \n",
       "10         1200.0                       249556   \n",
       "12          936.0                       147258   \n",
       "13         5088.0                       139717   \n",
       "\n",
       "    Rate per 1,000 of pop by ethnicity  Prop of arrests of this ethnicity  \\\n",
       "6                                13.55                              0.022   \n",
       "7                               112.85                              0.032   \n",
       "10                                4.81                              0.014   \n",
       "12                                6.36                              0.011   \n",
       "13                               36.42                              0.010   \n",
       "\n",
       "    clusters  \n",
       "6          2  \n",
       "7          2  \n",
       "10         1  \n",
       "12         2  \n",
       "13         2  "
      ]
     },
     "execution_count": 67,
     "metadata": {},
     "output_type": "execute_result"
    }
   ],
   "source": [
    "df.head()"
   ]
  },
  {
   "cell_type": "code",
   "execution_count": 68,
   "id": "bb225121",
   "metadata": {},
   "outputs": [
    {
     "data": {
      "text/plain": [
       "0    12648\n",
       "3     1236\n",
       "2      288\n",
       "1      288\n",
       "Name: clusters, dtype: int64"
      ]
     },
     "execution_count": 68,
     "metadata": {},
     "output_type": "execute_result"
    }
   ],
   "source": [
    "df['clusters'].value_counts()"
   ]
  },
  {
   "cell_type": "code",
   "execution_count": null,
   "id": "ca313fed",
   "metadata": {},
   "outputs": [],
   "source": []
  },
  {
   "cell_type": "markdown",
   "id": "e899f0e9",
   "metadata": {},
   "source": [
    "# Q7"
   ]
  },
  {
   "cell_type": "code",
   "execution_count": 76,
   "id": "a38099e8",
   "metadata": {
    "scrolled": false
   },
   "outputs": [
    {
     "data": {
      "image/png": "[encoded data removed]",
      "text/plain": [
       "<Figure size 864x576 with 1 Axes>"
      ]
     },
     "metadata": {
      "needs_background": "light"
     },
     "output_type": "display_data"
    }
   ],
   "source": [
    "plt.figure(figsize=(12,8))\n",
    "ax = sns.scatterplot(x=df['No of arrests'], y=df['Pop by ethnicity and gender'], hue=kmeans.labels_, s=100) \n",
    "\n",
    "ax.grid(False) \n",
    "plt.xlabel('No of arrests')\n",
    "plt.ylabel('Pop, by ethnicity and gender') \n",
    "plt.show()"
   ]
  },
  {
   "cell_type": "markdown",
   "id": "e195cba0",
   "metadata": {},
   "source": [
    "# Q8 First visualisation - The clusters indicate some relationship between the 'Number of Arrests' and 'Pop by Ethnicity and gender' , but it's not conclusive. I would like to dig deeper to explore specific ethnicty, and population counts for Georgrahic regions, as this can lead to further analysis. "
   ]
  },
  {
   "cell_type": "code",
   "execution_count": null,
   "id": "2e9c1373",
   "metadata": {},
   "outputs": [],
   "source": []
  },
  {
   "cell_type": "code",
   "execution_count": null,
   "id": "bd18cf57",
   "metadata": {},
   "outputs": [],
   "source": [
    "# Second Variable Test"
   ]
  },
  {
   "cell_type": "code",
   "execution_count": 81,
   "id": "56b1ecb6",
   "metadata": {
    "scrolled": true
   },
   "outputs": [
    {
     "data": {
      "image/png": "[encoded data removed]",
      "text/plain": [
       "<Figure size 864x576 with 1 Axes>"
      ]
     },
     "metadata": {
      "needs_background": "light"
     },
     "output_type": "display_data"
    }
   ],
   "source": [
    "plt.figure(figsize=(12,8))\n",
    "ax = sns.scatterplot(x=df['Pop by ethnicity and gender'], y=df['Rate per 1,000 of pop by ethnicity'], hue=kmeans.labels_, s=100) \n",
    "\n",
    "ax.grid(False) \n",
    "plt.xlabel('No of arrests')\n",
    "plt.ylabel('Rate per 1000 of pop by ethnicity') \n",
    "plt.show()"
   ]
  },
  {
   "cell_type": "markdown",
   "id": "58285ad6",
   "metadata": {},
   "source": [
    "# The arrest rate above is the number of people arrested from a particular ethnic group out of every 1000 of people from the same group. The clusters indicate a disparity in arrest rates between particular ethnic groups which I want to explore further."
   ]
  },
  {
   "cell_type": "code",
   "execution_count": null,
   "id": "0a00eff9",
   "metadata": {},
   "outputs": [],
   "source": []
  },
  {
   "cell_type": "code",
   "execution_count": null,
   "id": "15abdc04",
   "metadata": {},
   "outputs": [],
   "source": []
  },
  {
   "cell_type": "markdown",
   "id": "97bde4f4",
   "metadata": {},
   "source": [
    "# Q9"
   ]
  },
  {
   "cell_type": "code",
   "execution_count": 74,
   "id": "a79d440e",
   "metadata": {},
   "outputs": [],
   "source": [
    "df.loc[df['clusters'] == 2, 'cluster'] = 'dark purple'\n",
    "df.loc[df['clusters'] == 1, 'cluster'] = 'purple'\n",
    "df.loc[df['clusters'] == 0, 'cluster'] = 'pink'\n",
    "df.loc[df['clusters'] == 3, 'cluster'] = 'navy'"
   ]
  },
  {
   "cell_type": "markdown",
   "id": "8a8184dd",
   "metadata": {},
   "source": []
  },
  {
   "cell_type": "code",
   "execution_count": null,
   "id": "50d6ca59",
   "metadata": {},
   "outputs": [],
   "source": []
  },
  {
   "cell_type": "code",
   "execution_count": 85,
   "id": "3ed0a9f1",
   "metadata": {},
   "outputs": [
    {
     "data": {
      "text/html": [
       "<div>\n",
       "<style scoped>\n",
       "    .dataframe tbody tr th:only-of-type {\n",
       "        vertical-align: middle;\n",
       "    }\n",
       "\n",
       "    .dataframe tbody tr th {\n",
       "        vertical-align: top;\n",
       "    }\n",
       "\n",
       "    .dataframe thead tr th {\n",
       "        text-align: left;\n",
       "    }\n",
       "\n",
       "    .dataframe thead tr:last-of-type th {\n",
       "        text-align: right;\n",
       "    }\n",
       "</style>\n",
       "<table border=\"1\" class=\"dataframe\">\n",
       "  <thead>\n",
       "    <tr>\n",
       "      <th></th>\n",
       "      <th colspan=\"2\" halign=\"left\">No of arrests</th>\n",
       "      <th colspan=\"2\" halign=\"left\">Rate per 1,000 of pop by ethnicity</th>\n",
       "      <th colspan=\"2\" halign=\"left\">Pop by ethnicity and gender</th>\n",
       "      <th colspan=\"2\" halign=\"left\">Prop of arrests of this ethnicity</th>\n",
       "    </tr>\n",
       "    <tr>\n",
       "      <th></th>\n",
       "      <th>mean</th>\n",
       "      <th>median</th>\n",
       "      <th>mean</th>\n",
       "      <th>median</th>\n",
       "      <th>mean</th>\n",
       "      <th>median</th>\n",
       "      <th>mean</th>\n",
       "      <th>median</th>\n",
       "    </tr>\n",
       "    <tr>\n",
       "      <th>cluster</th>\n",
       "      <th></th>\n",
       "      <th></th>\n",
       "      <th></th>\n",
       "      <th></th>\n",
       "      <th></th>\n",
       "      <th></th>\n",
       "      <th></th>\n",
       "      <th></th>\n",
       "    </tr>\n",
       "  </thead>\n",
       "  <tbody>\n",
       "    <tr>\n",
       "      <th>dark purple</th>\n",
       "      <td>2693.423611</td>\n",
       "      <td>1844.0</td>\n",
       "      <td>23.293576</td>\n",
       "      <td>18.055</td>\n",
       "      <td>113226.083333</td>\n",
       "      <td>108238.5</td>\n",
       "      <td>0.055580</td>\n",
       "      <td>0.046</td>\n",
       "    </tr>\n",
       "    <tr>\n",
       "      <th>navy</th>\n",
       "      <td>823.067152</td>\n",
       "      <td>574.5</td>\n",
       "      <td>20.305000</td>\n",
       "      <td>16.265</td>\n",
       "      <td>37412.398058</td>\n",
       "      <td>32023.5</td>\n",
       "      <td>0.046139</td>\n",
       "      <td>0.036</td>\n",
       "    </tr>\n",
       "    <tr>\n",
       "      <th>pink</th>\n",
       "      <td>303.532891</td>\n",
       "      <td>47.0</td>\n",
       "      <td>29.503445</td>\n",
       "      <td>16.775</td>\n",
       "      <td>4723.417932</td>\n",
       "      <td>2985.0</td>\n",
       "      <td>0.015776</td>\n",
       "      <td>0.007</td>\n",
       "    </tr>\n",
       "    <tr>\n",
       "      <th>purple</th>\n",
       "      <td>3699.232639</td>\n",
       "      <td>2866.0</td>\n",
       "      <td>16.791806</td>\n",
       "      <td>13.865</td>\n",
       "      <td>224302.298611</td>\n",
       "      <td>232798.0</td>\n",
       "      <td>0.409424</td>\n",
       "      <td>0.095</td>\n",
       "    </tr>\n",
       "  </tbody>\n",
       "</table>\n",
       "</div>"
      ],
      "text/plain": [
       "            No of arrests         Rate per 1,000 of pop by ethnicity          \\\n",
       "                     mean  median                               mean  median   \n",
       "cluster                                                                        \n",
       "dark purple   2693.423611  1844.0                          23.293576  18.055   \n",
       "navy           823.067152   574.5                          20.305000  16.265   \n",
       "pink           303.532891    47.0                          29.503445  16.775   \n",
       "purple        3699.232639  2866.0                          16.791806  13.865   \n",
       "\n",
       "            Pop by ethnicity and gender            \\\n",
       "                                   mean    median   \n",
       "cluster                                             \n",
       "dark purple               113226.083333  108238.5   \n",
       "navy                       37412.398058   32023.5   \n",
       "pink                        4723.417932    2985.0   \n",
       "purple                    224302.298611  232798.0   \n",
       "\n",
       "            Prop of arrests of this ethnicity         \n",
       "                                         mean median  \n",
       "cluster                                               \n",
       "dark purple                          0.055580  0.046  \n",
       "navy                                 0.046139  0.036  \n",
       "pink                                 0.015776  0.007  \n",
       "purple                               0.409424  0.095  "
      ]
     },
     "execution_count": 85,
     "metadata": {},
     "output_type": "execute_result"
    }
   ],
   "source": [
    "df.groupby('cluster').agg({'No of arrests':['mean', 'median'], \n",
    "                         'Rate per 1,000 of pop by ethnicity':['mean', 'median'], \n",
    "                         'Pop by ethnicity and gender':['mean', 'median'],\n",
    "                          'Prop of arrests of this ethnicity':['mean', 'median']})"
   ]
  },
  {
   "cell_type": "markdown",
   "id": "14de182f",
   "metadata": {},
   "source": [
    "# 10 - # The number of arrests for a specific demograhic population, with a focus on ethnicitiy and gender. "
   ]
  },
  {
   "cell_type": "code",
   "execution_count": null,
   "id": "c4a947cc",
   "metadata": {},
   "outputs": [],
   "source": []
  },
  {
   "cell_type": "code",
   "execution_count": 5,
   "id": "e4e00d5b",
   "metadata": {},
   "outputs": [],
   "source": [
    "df.to_csv(os.path.join(path, 'arrests-data1.csv'))"
   ]
  },
  {
   "cell_type": "code",
   "execution_count": null,
   "id": "101631b5",
   "metadata": {},
   "outputs": [],
   "source": []
  }
 ],
 "metadata": {
  "kernelspec": {
   "display_name": "Python 3 (ipykernel)",
   "language": "python",
   "name": "python3"
  },
  "language_info": {
   "codemirror_mode": {
    "name": "ipython",
    "version": 3
   },
   "file_extension": ".py",
   "mimetype": "text/x-python",
   "name": "python",
   "nbconvert_exporter": "python",
   "pygments_lexer": "ipython3",
   "version": "3.9.7"
  }
 },
 "nbformat": 4,
 "nbformat_minor": 5
}
